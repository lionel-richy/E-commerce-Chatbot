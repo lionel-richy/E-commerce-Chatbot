{
 "cells": [
  {
   "cell_type": "code",
   "execution_count": 1,
   "id": "8b773f66",
   "metadata": {},
   "outputs": [],
   "source": [
    "import pandas as pd\n",
    "from pathlib import Path\n",
    "import chromadb\n",
    "from chromadb.utils import embedding_functions"
   ]
  },
  {
   "cell_type": "code",
   "execution_count": 2,
   "id": "f290a269",
   "metadata": {},
   "outputs": [],
   "source": [
    "import sqlite3\n",
    "import pandas as pd"
   ]
  },
  {
   "cell_type": "code",
   "execution_count": 3,
   "id": "d5f1c1c1",
   "metadata": {},
   "outputs": [],
   "source": [
    "\n",
    "def run_query(query):\n",
    "    \"\"\"\n",
    "    Exécute une requête SQL et retourne les résultats sous forme de DataFrame.\n",
    "    \n",
    "    :param query: La requête SQL à exécuter.\n",
    "    :return: DataFrame contenant les résultats de la requête.\n",
    "    \"\"\"\n",
    "    # Assurez-vous que la base de données est accessible\n",
    "    with sqlite3.connect(\"db.sqlite\") as conn: \n",
    "        df =pd.read_sql_query(query, conn)\n",
    "        return df"
   ]
  },
  {
   "cell_type": "code",
   "execution_count": 5,
   "id": "c9897209",
   "metadata": {},
   "outputs": [
    {
     "data": {
      "text/plain": [
       "True"
      ]
     },
     "execution_count": 5,
     "metadata": {},
     "output_type": "execute_result"
    }
   ],
   "source": [
    "import sqlite3\n",
    "import pandas as pd\n",
    "import os\n",
    "from groq import Groq\n",
    "import pathlib as Path\n",
    "from dotenv import load_dotenv\n",
    "load_dotenv()  # Charge les variables du fichier .env"
   ]
  },
  {
   "cell_type": "code",
   "execution_count": 7,
   "id": "b4c0fec5",
   "metadata": {},
   "outputs": [],
   "source": [
    "client = Groq(\n",
    "    api_key=os.environ.get(\"GROQ_API_KEY\") \n",
    ")"
   ]
  },
  {
   "cell_type": "code",
   "execution_count": 9,
   "id": "28c71cd3",
   "metadata": {},
   "outputs": [],
   "source": [
    "from pathlib import Path\n",
    "db_path = Path.cwd() / \"db.sqlite\""
   ]
  },
  {
   "cell_type": "code",
   "execution_count": 10,
   "id": "6b5efd3b",
   "metadata": {},
   "outputs": [
    {
     "name": "stdout",
     "output_type": "stream",
     "text": [
      "c:\\Users\\panla\\OneDrive\\Documents\\HRW\\GenAI_25\\GenAI\\Project_E_commerce_tool\\db.sqlite\n"
     ]
    }
   ],
   "source": [
    "print (db_path)"
   ]
  },
  {
   "cell_type": "code",
   "execution_count": 8,
   "id": "9bdbbd24",
   "metadata": {},
   "outputs": [
    {
     "ename": "NameError",
     "evalue": "name '__file__' is not defined",
     "output_type": "error",
     "traceback": [
      "\u001b[31m---------------------------------------------------------------------------\u001b[39m",
      "\u001b[31mNameError\u001b[39m                                 Traceback (most recent call last)",
      "\u001b[36mCell\u001b[39m\u001b[36m \u001b[39m\u001b[32mIn[8]\u001b[39m\u001b[32m, line 1\u001b[39m\n\u001b[32m----> \u001b[39m\u001b[32m1\u001b[39m db_path = Path(\u001b[34;43m__file__\u001b[39;49m).parent / \u001b[33m\"\u001b[39m\u001b[33mdb.sqlite\u001b[39m\u001b[33m\"\u001b[39m\n",
      "\u001b[31mNameError\u001b[39m: name '__file__' is not defined"
     ]
    }
   ],
   "source": [
    "db_path = Path(__file__).parent / \"db.sqlite\""
   ]
  }
 ],
 "metadata": {
  "kernelspec": {
   "display_name": ".venv",
   "language": "python",
   "name": "python3"
  },
  "language_info": {
   "codemirror_mode": {
    "name": "ipython",
    "version": 3
   },
   "file_extension": ".py",
   "mimetype": "text/x-python",
   "name": "python",
   "nbconvert_exporter": "python",
   "pygments_lexer": "ipython3",
   "version": "3.11.9"
  }
 },
 "nbformat": 4,
 "nbformat_minor": 5
}
